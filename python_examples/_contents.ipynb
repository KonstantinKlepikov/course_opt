{
 "cells": [
  {
   "cell_type": "markdown",
   "metadata": {
    "collapsed": true
   },
   "source": [
    "# Примеры решения задач с помощью Python"
   ]
  },
  {
   "cell_type": "markdown",
   "metadata": {},
   "source": [
    "## Анализ химико-технологических систем"
   ]
  },
  {
   "cell_type": "markdown",
   "metadata": {},
   "source": [
    "1. [Анализ числа степеней свободы и решение системы уравнений материального баланса](two_columns_balance.ipynb)"
   ]
  },
  {
   "cell_type": "markdown",
   "metadata": {},
   "source": [
    "## Одномерная оптимизация"
   ]
  },
  {
   "cell_type": "markdown",
   "metadata": {},
   "source": [
    "1. [Методы одномерной оптимизации](univariate_optimization_methods.ipynb) - примеры реализации алгоритмов и использование  функций `scipy.optimize`\n",
    "1. [Задача о пожарном ведре](pozhar.ipynb)"
   ]
  },
  {
   "cell_type": "markdown",
   "metadata": {},
   "source": [
    "## Многомерная оптимизация"
   ]
  },
  {
   "cell_type": "markdown",
   "metadata": {},
   "source": [
    "1. [Анализ и визуализация функций двух переменных](multivariate_analysis.ipynb) - примеры визуализации функций двух переменных, вычисления градиента и гессиана, а также поиска и определения типа экстремума\n",
    "\n",
    "2. [Градиентные методы оптимизации функций многих переменных](gradient_descent.ipynb) - реализация на Python и визуализация работы градиентных методов оптимизации\n",
    "\n",
    "3. [Метод Ньютона](newton.ipynb) - реализация метода Ньютона. В блокноте также сравниваются основные классы методов многомерной безусловной оптимизации, реализованные в пакете `scipy.optimize`"
   ]
  },
  {
   "cell_type": "markdown",
   "metadata": {},
   "source": [
    "## Синтез ХТС\n",
    "\n",
    "1. [Выбор реактора](two_reactors.ipynb) - пример нелинейной задачи выбора реактора. Также в примере показано, как можно получить уравнения для кусочно-линейных и линейных аппроксимаций для функций затрат"
   ]
  },
  {
   "cell_type": "markdown",
   "metadata": {},
   "source": [
    "## Вспомогательные материалы\n",
    "\n",
    "1. [Аналитическое вычисление производных, градиента и матрицы Гессе с помощью SymPy](derivatives.ipynb)"
   ]
  }
 ],
 "metadata": {
  "hide_input": false,
  "kernelspec": {
   "display_name": "Python 3",
   "language": "python",
   "name": "python3"
  },
  "language_info": {
   "codemirror_mode": {
    "name": "ipython",
    "version": 3
   },
   "file_extension": ".py",
   "mimetype": "text/x-python",
   "name": "python",
   "nbconvert_exporter": "python",
   "pygments_lexer": "ipython3",
   "version": "3.4.3"
  },
  "latex_envs": {
   "bibliofile": "biblio.bib",
   "cite_by": "apalike",
   "current_citInitial": 1,
   "eqLabelWithNumbers": true,
   "eqNumInitial": 0
  },
  "toc": {
   "toc_cell": false,
   "toc_number_sections": false,
   "toc_threshold": 4,
   "toc_window_display": false
  }
 },
 "nbformat": 4,
 "nbformat_minor": 0
}
