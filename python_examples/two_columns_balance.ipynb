{
 "cells": [
  {
   "cell_type": "markdown",
   "metadata": {},
   "source": [
    "# Анализ и решение систем уравнений материального баланса"
   ]
  },
  {
   "cell_type": "markdown",
   "metadata": {},
   "source": [
    "[К оглавлению](_contents.ipynb)"
   ]
  },
  {
   "cell_type": "markdown",
   "metadata": {},
   "source": [
    "![Схема процесса](pics/two_columns_balance.png)"
   ]
  },
  {
   "cell_type": "markdown",
   "metadata": {},
   "source": [
    "На рисунке показана блок-схема системы разделения, в которой трехкомпонентная смесь разделяется на отдельные компоненты - A, B, C.\n",
    "\n",
    "В верхней части первой колонны отделяется 20% потока питания (чистый компонент A). Во второй колонне оставшиеся 80% разделяются на отдельные компоненты - B и C.\n",
    "\n",
    "Требуется:\n",
    "\n",
    "1. Записать систему уравнений материального баланса по общим массовым расходам потоков\n",
    "2. Определить число степеней свободы системы\n",
    "3. Задав (произвольным образом) необходимое количество свободных переменных, найти расходы всех потоков из решения системы материальных балансов."
   ]
  },
  {
   "cell_type": "markdown",
   "metadata": {},
   "source": [
    "## Система уравнений материального баланса\n",
    "\n",
    "Система уравнений материального баланса в неявном виде:\n",
    "\n",
    "\\[\n",
    "\\begin{equation}\\label{eq:system}\n",
    "\\begin{cases}\n",
    "    x_1 - x_2 - x_3 = 0\\\\\n",
    "    -0.2 x_1 + x_2 = 0 \\\\\n",
    "    -0.8 x_1 + x_3 = 0 \\\\    \n",
    "    x_3 - x_4 - x_5 = 0 \n",
    "\\end{cases}\n",
    "\\end{equation}\n",
    "\\]"
   ]
  },
  {
   "cell_type": "markdown",
   "metadata": {},
   "source": [
    "Количество переменных в системе - 5, количество уравнений - 4\n",
    "\n",
    "Чтобы определить число независимых уравнений, необходимо найти ранг матрицы коэффициентов системы\n",
    "\n",
    "В этом примере мы покажем, как решить такую задачу двумя способами:  \n",
    "- с помощью аналитических преобразований с использованием пакета sympy\n",
    "- численно, с помощью пакета numpy\n",
    "\n",
    "Дополнительно покажем, как получить матрицу коэффициентов системы на основе исходных уравнений с помощью SymPy."
   ]
  },
  {
   "cell_type": "markdown",
   "metadata": {},
   "source": [
    "## Анализ и решение системы уравнений с помощью символьных вычислений в SymPy"
   ]
  },
  {
   "cell_type": "code",
   "execution_count": 1,
   "metadata": {
    "collapsed": true
   },
   "outputs": [],
   "source": [
    "## Подключение пакетов\n",
    "import numpy as np # Работа с массивами\n",
    "import sympy as sp # Символьная математика"
   ]
  },
  {
   "cell_type": "code",
   "execution_count": 2,
   "metadata": {
    "collapsed": false
   },
   "outputs": [],
   "source": [
    "# Инициализация отображения математических формул:\n",
    "sp.init_printing()"
   ]
  },
  {
   "cell_type": "code",
   "execution_count": 3,
   "metadata": {
    "collapsed": true
   },
   "outputs": [],
   "source": [
    "# Обход проблемы с отображением матриц - определяем функцию для их печати\n",
    "# \n",
    "from IPython.display import  Math\n",
    "def printMatrix(m):\n",
    "    \"\"\"\n",
    "    Функция для вывода в блокнот матриц SymPy.\n",
    "    Использование: printMatrix(Матрица)\n",
    "    \"\"\"\n",
    "    return Math(sp.latex(m))"
   ]
  },
  {
   "cell_type": "code",
   "execution_count": 4,
   "metadata": {
    "collapsed": false
   },
   "outputs": [],
   "source": [
    "# Определяем переменные для символьных преобразований:\n",
    "x1, x2, x3, x4, x5 = sp.symbols('x_1 x_2 x_3 x_4 x_5')"
   ]
  },
  {
   "cell_type": "code",
   "execution_count": 5,
   "metadata": {
    "collapsed": false
   },
   "outputs": [
    {
     "data": {
      "text/latex": [
       "$$\\left[\\begin{matrix}1 & -1 & -1 & 0 & 0\\\\- \\frac{1}{5} & 1 & 0 & 0 & 0\\\\- \\frac{4}{5} & 0 & 1 & 0 & 0\\\\0 & 0 & 1 & -1 & -1\\end{matrix}\\right]$$"
      ],
      "text/plain": [
       "<IPython.core.display.Math object>"
      ]
     },
     "execution_count": 5,
     "metadata": {},
     "output_type": "execute_result"
    }
   ],
   "source": [
    "# Матрица коэффициентов системы:\n",
    "\n",
    "# Дроби нужно задавать как рациональные, иначе работать будет неправильно: 0.2 = 2/10 = 1/5\n",
    "A = sp.Matrix([\n",
    "        [1, -1, -1, 0, 0],\n",
    "        [-sp.Rational(1, 5), 1, 0, 0, 0],\n",
    "        [-sp.Rational(4, 5), 0, 1, 0, 0],\n",
    "        [0, 0, 1, -1, -1]        \n",
    "    ])\n",
    "\n",
    "# Автовывод матриц не работает, если на компьютере не установлен LaTeX. \n",
    "# Поэтому используем созданную выше функцию для вывода в графическом режиме:\n",
    "printMatrix(A)"
   ]
  },
  {
   "cell_type": "code",
   "execution_count": 6,
   "metadata": {
    "collapsed": false
   },
   "outputs": [
    {
     "name": "stdout",
     "output_type": "stream",
     "text": [
      "⎡ 1    -1  -1  0   0 ⎤\n",
      "⎢                    ⎥\n",
      "⎢-1/5  1   0   0   0 ⎥\n",
      "⎢                    ⎥\n",
      "⎢-4/5  0   1   0   0 ⎥\n",
      "⎢                    ⎥\n",
      "⎣ 0    0   1   -1  -1⎦\n"
     ]
    }
   ],
   "source": [
    "# Или функцию pprint() пакета SymPy для вывода в текстовом режиме:\n",
    "sp.pprint(A)"
   ]
  },
  {
   "cell_type": "code",
   "execution_count": 7,
   "metadata": {
    "collapsed": false
   },
   "outputs": [
    {
     "data": {
      "image/png": "[encoded data removed]",
      "text/latex": [
       "$$3$$"
      ],
      "text/plain": [
       "3"
      ]
     },
     "execution_count": 7,
     "metadata": {},
     "output_type": "execute_result"
    }
   ],
   "source": [
    "# Определяем ранг матрицы с помощью метода rank:\n",
    "A.rank()"
   ]
  },
  {
   "cell_type": "code",
   "execution_count": 8,
   "metadata": {
    "collapsed": false
   },
   "outputs": [
    {
     "data": {
      "text/latex": [
       "$$\\left[\\begin{matrix}1 & 0 & 0 & - \\frac{5}{4} & - \\frac{5}{4}\\\\0 & 1 & 0 & - \\frac{1}{4} & - \\frac{1}{4}\\\\0 & 0 & 1 & -1 & -1\\\\0 & 0 & 0 & 0 & 0\\end{matrix}\\right]$$"
      ],
      "text/plain": [
       "<IPython.core.display.Math object>"
      ]
     },
     "execution_count": 8,
     "metadata": {},
     "output_type": "execute_result"
    }
   ],
   "source": [
    "# Определяем ранг матрицы с помощью преобразования к ступенчатому виду:\n",
    "printMatrix(A.rref()[0])"
   ]
  },
  {
   "cell_type": "markdown",
   "metadata": {},
   "source": [
    "Ранг матрицы определяет число линейно независимых строк. Следовательно, линейно независимы только 3 уравнения системы из четырех.\n",
    "\n",
    "Число степеней свободы: $F = N - M = 5 - 3 = 2$. Чтобы найти решение, необходимо задать значения двух свободных переменных."
   ]
  },
  {
   "cell_type": "code",
   "execution_count": 9,
   "metadata": {
    "collapsed": true
   },
   "outputs": [],
   "source": [
    "X = sp.Matrix([x1, x2, x3, x4, x5])"
   ]
  },
  {
   "cell_type": "code",
   "execution_count": 10,
   "metadata": {
    "collapsed": false
   },
   "outputs": [
    {
     "data": {
      "image/png": "[encoded data removed]",
      "text/latex": [
       "$$\\left [ x_{1} - x_{2} - x_{3}, \\quad - \\frac{x_{1}}{5} + x_{2}, \\quad - \\frac{4 x_{1}}{5} + x_{3}, \\quad x_{3} - x_{4} - x_{5}\\right ]$$"
      ],
      "text/plain": [
       "⎡                x₁         4⋅x₁                   ⎤\n",
       "⎢x₁ - x₂ - x₃, - ── + x₂, - ──── + x₃, x₃ - x₄ - x₅⎥\n",
       "⎣                5           5                     ⎦"
      ]
     },
     "execution_count": 10,
     "metadata": {},
     "output_type": "execute_result"
    }
   ],
   "source": [
    "# Получаем уравнения системы:\n",
    "M = A.dot(X)\n",
    "M"
   ]
  },
  {
   "cell_type": "code",
   "execution_count": 11,
   "metadata": {
    "collapsed": false
   },
   "outputs": [
    {
     "data": {
      "image/png": "[encoded data removed]",
      "text/latex": [
       "$$\\left [ - x_{2} - x_{3} + 100, \\quad x_{2} - 20, \\quad x_{3} - 80, \\quad x_{3} - x_{4} - 30\\right ]$$"
      ],
      "text/plain": [
       "[-x₂ - x₃ + 100, x₂ - 20, x₃ - 80, x₃ - x₄ - 30]"
      ]
     },
     "execution_count": 11,
     "metadata": {},
     "output_type": "execute_result"
    }
   ],
   "source": [
    "# Пусть заданы расход потока питания и расход компонента C на выходе из системы:\n",
    "\n",
    "Ms = [eq.subs({x1:100, x5:30}) for eq in M]\n",
    "\n",
    "# Метод subs делает замену в выражении, у которого он вызывается.\n",
    "# В качестве аргумента метода надо передать словарь, указывающий, какие переменные на что заменять.\n",
    "# Поскольку M - это список, содержащий отдельные уравнения системы, нам необходимо сделать замену в каждом уравнении списка.\n",
    "# Для этого используем списочное выражение: [for i in list]\n",
    "\n",
    "Ms"
   ]
  },
  {
   "cell_type": "code",
   "execution_count": 12,
   "metadata": {
    "collapsed": false
   },
   "outputs": [
    {
     "data": {
      "image/png": "[encoded data removed]",
      "text/latex": [
       "$$\\left [ \\left \\{ x_{2} : 20, \\quad x_{3} : 80, \\quad x_{4} : 50\\right \\}\\right ]$$"
      ],
      "text/plain": [
       "[{x₂: 20, x₃: 80, x₄: 50}]"
      ]
     },
     "execution_count": 12,
     "metadata": {},
     "output_type": "execute_result"
    }
   ],
   "source": [
    "# Решаем систему:\n",
    "sp.solve(Ms)"
   ]
  },
  {
   "cell_type": "code",
   "execution_count": 13,
   "metadata": {
    "collapsed": false
   },
   "outputs": [
    {
     "data": {
      "text/latex": [
       "$$\\left[\\begin{matrix}- x_{2} - x_{3} + 100\\\\x_{2} - 20\\\\x_{3} - 80\\\\x_{3} - x_{4} - 30\\end{matrix}\\right]$$"
      ],
      "text/plain": [
       "<IPython.core.display.Math object>"
      ]
     },
     "execution_count": 13,
     "metadata": {},
     "output_type": "execute_result"
    }
   ],
   "source": [
    "# Можно обойтись без использования списочного выражения, если преобразовать список уравнений в матрицу.\n",
    "# Тогда замена будет сделана сразу во всех строках матрицы:\n",
    "\n",
    "Ms = sp.Matrix(M).subs({x1:100, x5:30})\n",
    "printMatrix(Ms)"
   ]
  },
  {
   "cell_type": "code",
   "execution_count": 14,
   "metadata": {
    "collapsed": false
   },
   "outputs": [
    {
     "data": {
      "image/png": "[encoded data removed]",
      "text/latex": [
       "$$\\left [ \\left \\{ x_{2} : 20, \\quad x_{3} : 80, \\quad x_{4} : 50\\right \\}\\right ]$$"
      ],
      "text/plain": [
       "[{x₂: 20, x₃: 80, x₄: 50}]"
      ]
     },
     "execution_count": 14,
     "metadata": {},
     "output_type": "execute_result"
    }
   ],
   "source": [
    "sp.solve(Ms)"
   ]
  },
  {
   "cell_type": "markdown",
   "metadata": {},
   "source": [
    "Расходы потоков составляют:\n",
    "\n",
    "Поток | Переменная | Расход | Примечание\n",
    ":-|:-\n",
    "Поток питания| $x_1$ | 100  |регламентированная\n",
    "Легкий компонент A | $x_2$ | 20 |  \n",
    "Кубовый продукт колонны К1 | $x_3$ | 80 |\n",
    "Легкий компонент B | $x_4$ | 50 |\n",
    "Тяжелый компонент C | $x_5$ | 30 | регламентированная"
   ]
  },
  {
   "cell_type": "markdown",
   "metadata": {},
   "source": [
    "## Анализ и решение системы уравнений с помощью численных методов и пакета NumPy"
   ]
  },
  {
   "cell_type": "code",
   "execution_count": 15,
   "metadata": {
    "collapsed": false
   },
   "outputs": [
    {
     "data": {
      "text/plain": [
       "matrix([[ 1. , -1. , -1. ,  0. ,  0. ],\n",
       "        [-0.2,  1. ,  0. ,  0. ,  0. ],\n",
       "        [-0.8,  0. ,  1. ,  0. ,  0. ],\n",
       "        [ 0. ,  0. ,  1. , -1. , -1. ]])"
      ]
     },
     "execution_count": 15,
     "metadata": {},
     "output_type": "execute_result"
    }
   ],
   "source": [
    "# Матрица коэффициентов системы:\n",
    "A = np.matrix([\n",
    "        [1, -1, -1, 0, 0],\n",
    "        [-0.2, 1, 0, 0, 0],\n",
    "        [-0.8, 0, 1, 0, 0],\n",
    "        [0, 0, 1, -1, -1]        \n",
    "    ])\n",
    "\n",
    "A"
   ]
  },
  {
   "cell_type": "code",
   "execution_count": 16,
   "metadata": {
    "collapsed": false
   },
   "outputs": [
    {
     "data": {
      "text/plain": [
       "3"
      ]
     },
     "execution_count": 16,
     "metadata": {},
     "output_type": "execute_result"
    }
   ],
   "source": [
    "# Ранг матрицы коэффициентов:\n",
    "np.linalg.matrix_rank(A)"
   ]
  },
  {
   "cell_type": "markdown",
   "metadata": {},
   "source": [
    "Необходимо задать две переменные. Как и ранее, примем $x_1 = 100$ и $x_5 = 30$.\n",
    "\n",
    "К уравнениям системы $\\ref{eq:system}$ добавятся еще два:\n",
    "\n",
    "\\[\n",
    "    \\begin{cases}\n",
    "    x_1 = 100\\\\\n",
    "    x_5 = 30\n",
    "    \\end{cases}\n",
    "\\]"
   ]
  },
  {
   "cell_type": "code",
   "execution_count": 17,
   "metadata": {
    "collapsed": false
   },
   "outputs": [
    {
     "data": {
      "text/plain": [
       "matrix([[ 1. , -1. , -1. ,  0. ,  0. ],\n",
       "        [-0.2,  1. ,  0. ,  0. ,  0. ],\n",
       "        [-0.8,  0. ,  1. ,  0. ,  0. ],\n",
       "        [ 0. ,  0. ,  1. , -1. , -1. ],\n",
       "        [ 1. ,  0. ,  0. ,  0. ,  0. ],\n",
       "        [ 0. ,  0. ,  0. ,  0. ,  1. ]])"
      ]
     },
     "execution_count": 17,
     "metadata": {},
     "output_type": "execute_result"
    }
   ],
   "source": [
    "# Свободные члены для исходной системы:\n",
    "B = np.zeros(4)\n",
    "\n",
    "# Коэффициенты и свободные члены для дополнительных уравнений\n",
    "A_dop = np.matrix([\n",
    "        [1, 0, 0, 0, 0],\n",
    "        [0, 0, 0, 0, 1]        \n",
    "    ])\n",
    "\n",
    "B_dop = np.array([100, 30])\n",
    "\n",
    "# Матрица системы, дополненная новыми строками:\n",
    "\n",
    "A_new = np.vstack((A, A_dop)) # для матриц используем функцию vstack(); аргумент - кортеж из склеиваемых матриц\n",
    "B_new = np.append(B, B_dop) # для массивов используем функцию append()\n",
    "\n",
    "A_new"
   ]
  },
  {
   "cell_type": "markdown",
   "metadata": {},
   "source": [
    "Линейную систему уравнений можно решить с помощью обращения матрицы коэффициентов:\n",
    "\n",
    "$$ X = A^{-1}\\cdot B $$"
   ]
  },
  {
   "cell_type": "code",
   "execution_count": 18,
   "metadata": {
    "collapsed": false
   },
   "outputs": [
    {
     "data": {
      "text/plain": [
       "matrix([[ 100.,   20.,   80.,   50.,   30.]])"
      ]
     },
     "execution_count": 18,
     "metadata": {},
     "output_type": "execute_result"
    }
   ],
   "source": [
    "# Решаем систему:\n",
    "X = A_new.I.dot(B_new)\n",
    "X"
   ]
  },
  {
   "cell_type": "markdown",
   "metadata": {},
   "source": [
    "## Получение матрицы коэффициентов системы"
   ]
  },
  {
   "cell_type": "markdown",
   "metadata": {},
   "source": [
    "Матрица коэффициентов может быть получена автоматически, на основе исходных уравнений в системе $\\ref{eq:system}$ с помощью SymPy."
   ]
  },
  {
   "cell_type": "code",
   "execution_count": 19,
   "metadata": {
    "collapsed": false
   },
   "outputs": [
    {
     "data": {
      "text/latex": [
       "$$\\left[\\begin{matrix}1 & -1 & -1 & 0 & 0\\\\- \\frac{1}{5} & 1 & 0 & 0 & 0\\\\- \\frac{4}{5} & 0 & 1 & 0 & 0\\\\0 & 0 & 1 & -1 & -1\\end{matrix}\\right]$$"
      ],
      "text/plain": [
       "<IPython.core.display.Math object>"
      ]
     },
     "execution_count": 19,
     "metadata": {},
     "output_type": "execute_result"
    }
   ],
   "source": [
    "# Задаем выражения для каждого уравнения системы:\n",
    "eq1 = x1 - x2 - x3\n",
    "eq2 = -sp.Rational(1, 5) * x1 + x2\n",
    "eq3 = -sp.Rational(4, 5) * x1 + x3\n",
    "eq4 = x3 - x4 - x5\n",
    "\n",
    "# Формируем матрицу из уравнений системы:\n",
    "Eq = sp.Matrix([eq1, eq2, eq3, eq4])\n",
    "\n",
    "# Формируем список переменных:\n",
    "X = sp.Matrix([x1, x2, x3, x4, x5])\n",
    "\n",
    "\n",
    "# Вычисляем Якобиан - матрицу из частных производных уравнений системы по всем переменным.\n",
    "# Для линейных систем Якобиан совпадает с матрицей коэффициентов A\n",
    "\n",
    "J = Eq.jacobian(X)\n",
    "printMatrix(J)"
   ]
  }
 ],
 "metadata": {
  "hide_input": false,
  "kernelspec": {
   "display_name": "Python 3",
   "language": "python",
   "name": "python3"
  },
  "language_info": {
   "codemirror_mode": {
    "name": "ipython",
    "version": 3
   },
   "file_extension": ".py",
   "mimetype": "text/x-python",
   "name": "python",
   "nbconvert_exporter": "python",
   "pygments_lexer": "ipython3",
   "version": "3.4.3"
  },
  "latex_envs": {
   "bibliofile": "biblio.bib",
   "cite_by": "apalike",
   "current_citInitial": 1,
   "eqLabelWithNumbers": true,
   "eqNumInitial": 0
  },
  "toc": {
   "toc_cell": false,
   "toc_number_sections": false,
   "toc_threshold": 4,
   "toc_window_display": false
  }
 },
 "nbformat": 4,
 "nbformat_minor": 0
}
