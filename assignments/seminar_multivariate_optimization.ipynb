{
 "cells": [
  {
   "cell_type": "markdown",
   "metadata": {},
   "source": [
    "# Решение задач многомерной оптимизации"
   ]
  },
  {
   "cell_type": "code",
   "execution_count": null,
   "metadata": {
    "collapsed": true
   },
   "outputs": [],
   "source": [
    "# Начальная настройка рабочей среды. Запустите эту ячейку перед началом работы!\n",
    "\n",
    "# Загрузка пакетов\n",
    "import numpy as np # Работа с массивами\n",
    "import matplotlib.pyplot as plt # Графики\n",
    "# Выбор варианта отображения графиков:\n",
    "# графики будут встраиваться в блокнот:\n",
    "%matplotlib inline\n",
    "# графики в отдельном окне:\n",
    "# %matplotlib\n",
    "# графики в блокноте, с возможностью масштабирования:\n",
    "# %matplotlib nbagg\n",
    "# Более крупный шрифт для графиков по умолчанию\n",
    "from matplotlib import rcParams\n",
    "rcParams.update({'font.size': 14})\n",
    "# Если у вас не видны русские буквы на графиках и нет возможности \n",
    "# настротроить matplotlib - раскомментируйте следующую строку.\n",
    "#rcParams.update({'font.family': 'Arial'})  \n",
    "\n",
    "import scipy.optimize as so # Пакет с методами оптимизации\n",
    "\n",
    "import sympy as sp # Пакет символьной математики\n",
    "sp.init_printing() # Включить отображение выражений sympy в виде математических формул\n",
    "\n",
    "# Обход проблемы с отображением матриц - определяем функцию для их печати\n",
    "from IPython.display import  Math\n",
    "def printMatrix(m):\n",
    "    \"\"\"\n",
    "    Функция для вывода в блокнот матриц SymPy.\n",
    "    Использование: printMatrix(Матрица)\n",
    "    \"\"\"\n",
    "    return Math(sp.latex(m))"
   ]
  },
  {
   "cell_type": "markdown",
   "metadata": {},
   "source": [
    "## Задание 1. Оценка параметров эмпирической зависимости"
   ]
  },
  {
   "cell_type": "markdown",
   "metadata": {},
   "source": [
    "Кинетика связывания $CaO$ изучалась в известняково-пепельных смесях различного состава. Экспериментальные данные, приведенные в таблице, подчиняются уравнению: $$ C = C_0 \\cdot e ^{ -\\left(\\cfrac{kt}{n}\\right)^n } $$\n",
    "\n",
    "Определить [порядок реакции](https://ru.wikipedia.org/wiki/Химическая_кинетика) $n$ и константу скорости $k$ для различных смесей.\n"
   ]
  },
  {
   "cell_type": "markdown",
   "metadata": {},
   "source": [
    "Время $t$, мин | Массовая доля $C$, %\n",
    ":- | :-\n",
    "0 | 31.5\n",
    "1 | 15.0\n",
    "2 | 10.5\n",
    "4 | 5.2\n",
    "6 | 2.5\n",
    "8 | 1.5"
   ]
  },
  {
   "cell_type": "markdown",
   "metadata": {},
   "source": [
    "Источник: Холоднов В.А. Решение задач безусловной оптимизации с использованием системы компьютерной математики Mathcad. - С.-Пб. :  Санкт-Петербургский государственный технологический институт (технический университет), 2010. - с. 24"
   ]
  },
  {
   "cell_type": "markdown",
   "metadata": {},
   "source": [
    "### Решение"
   ]
  },
  {
   "cell_type": "markdown",
   "metadata": {},
   "source": [
    "Задача сводится к выбору таких значений неизвестных параметров $n$ и $k$, которые минимизируют невязку математической модели и экспериментальных данных. Для оценки ошибки модели можно использовать сумму квадратов отклонений предсказанных и фактических концентраций для различных моментов времени $t$:\n",
    "\n",
    "$$ f(k, n) = \\sum\\limits_{i=1}^5 (C^{эксп}_i - C^{предск}_i)^2 $$\n",
    "\n",
    "$C^{эксп}_i$ - указанные в таблице экспериментальные значения концентрации, а $C^{предск}_i$ - рассчитанные по уравнению для момента времени $t$."
   ]
  },
  {
   "cell_type": "markdown",
   "metadata": {},
   "source": [
    "Шаг 1. Задаем массивы экспериментальных данных"
   ]
  },
  {
   "cell_type": "code",
   "execution_count": null,
   "metadata": {
    "collapsed": true
   },
   "outputs": [],
   "source": [
    "# Начальная концентрация\n",
    "C_0 = 31.5\n",
    "# Зависимость концентрации от времени реакции\n",
    "t = np.array([1, 2, 4, 6, 8])\n",
    "C_exp = np.array([15.0, 10.5, 5.2, 2.5, 1.5])"
   ]
  },
  {
   "cell_type": "markdown",
   "metadata": {},
   "source": [
    "Шаг 2. Задаем функцию для вычисления концентрации в заданный момент времени"
   ]
  },
  {
   "cell_type": "code",
   "execution_count": null,
   "metadata": {
    "collapsed": true
   },
   "outputs": [],
   "source": [
    "C_t = lambda t, k, n: C_0 * np.exp(-(k * t / n)**n)"
   ]
  },
  {
   "cell_type": "markdown",
   "metadata": {},
   "source": [
    "Шаг 3. Задаем функцию для невязки"
   ]
  },
  {
   "cell_type": "code",
   "execution_count": null,
   "metadata": {
    "collapsed": true
   },
   "outputs": [],
   "source": [
    "@np.vectorize \n",
    "def error(k, n):        \n",
    "    return np.sum((C_exp - C_t(t, k, n))**2)\n",
    "\n",
    "# @np.vectorize - это специальное указание (декоратор функции): \n",
    "# если аргументами функции являются массивы numpy, то функция должна применяться поэлементно\n",
    "# Такая операция называется _векторизацией_ функции\n",
    "# Если векторизацию не делать, тогда в формуле для невязки используются массивы \n",
    "# и возникает ошибка из-за несовместимости их формы"
   ]
  },
  {
   "cell_type": "markdown",
   "metadata": {},
   "source": [
    "Шаг 4. Предварительное исследование функции и выбор начального приближения"
   ]
  },
  {
   "cell_type": "code",
   "execution_count": null,
   "metadata": {
    "collapsed": false
   },
   "outputs": [],
   "source": [
    "# Поскольку в задаче только два параметра, можно оценить область оптимальных значений визуально\n",
    "\n",
    "k_ = np.linspace(0.25, 0.6, 100)\n",
    "n_ = np.linspace(0.3, 0.9, 100)\n",
    "\n",
    "X, Y = np.meshgrid(k_, n_)\n",
    "\n",
    "Z = error(X, Y)\n",
    "\n",
    "plt.contourf(X, Y, Z, 20, cmap=plt.cm.viridis)\n",
    "plt.colorbar()\n",
    "plt.contour(X, Y, Z, 20, colors='black')\n",
    "plt.xlabel('k')\n",
    "plt.ylabel('n')\n",
    "plt.title('Невязка модели', y=1.02);"
   ]
  },
  {
   "cell_type": "markdown",
   "metadata": {},
   "source": [
    "Минимум функции достигается вблизи точки $k=0.4$, $m=0.6$. Выберем эту точку в качестве начального приближения"
   ]
  },
  {
   "cell_type": "markdown",
   "metadata": {},
   "source": [
    "Шаг 5. Оптимизация"
   ]
  },
  {
   "cell_type": "code",
   "execution_count": null,
   "metadata": {
    "collapsed": true
   },
   "outputs": [],
   "source": [
    "# При оптимизации функций нескольких переменных необходимо, чтобы все переменные находились\n",
    "# в одном векторном аргументе:\n",
    "\n",
    "f = lambda X: error(X[0], X[1])"
   ]
  },
  {
   "cell_type": "markdown",
   "metadata": {},
   "source": [
    "Попытка 1"
   ]
  },
  {
   "cell_type": "code",
   "execution_count": null,
   "metadata": {
    "collapsed": false
   },
   "outputs": [],
   "source": [
    "# Начальное приближение:\n",
    "X0 = np.array([0.4, 0.6])\n",
    "\n",
    "# Минимизация\n",
    "res = so.minimize(f, X0) # Неудачно!\n",
    "X_opt = res.x\n",
    "\n",
    "print(res)\n",
    "print('\\nk* = %.4f, n* = %.4f' %(X_opt[0], X_opt[1]))"
   ]
  },
  {
   "cell_type": "markdown",
   "metadata": {},
   "source": [
    "Попытка 2 - другое начальное приближение"
   ]
  },
  {
   "cell_type": "code",
   "execution_count": null,
   "metadata": {
    "collapsed": false
   },
   "outputs": [],
   "source": [
    "# Начальное приближение:\n",
    "X0 = np.array([0.3, 0.3])\n",
    "\n",
    "# Минимизация\n",
    "res = so.minimize(f, X0) \n",
    "X_opt = res.x\n",
    "\n",
    "print(res)\n",
    "print('\\nk* = %.4f, n* = %.4f' %(X_opt[0], X_opt[1]))"
   ]
  },
  {
   "cell_type": "markdown",
   "metadata": {},
   "source": [
    "Попытка 3 - задаем границы для переменной"
   ]
  },
  {
   "cell_type": "code",
   "execution_count": null,
   "metadata": {
    "collapsed": false
   },
   "outputs": [],
   "source": [
    "# Начальное приближение:\n",
    "X0 = np.array([0.4, 0.6])\n",
    "\n",
    "# Минимизация\n",
    "res = so.minimize(f, X0, bounds=((0, 1), (0, 1)))\n",
    "X_opt = res.x\n",
    "\n",
    "print(res)\n",
    "print('\\nk* = %.4f, n* = %.4f' %(X_opt[0], X_opt[1]))"
   ]
  },
  {
   "cell_type": "markdown",
   "metadata": {},
   "source": [
    "Попытка 4 - используем безградиентный метод"
   ]
  },
  {
   "cell_type": "code",
   "execution_count": null,
   "metadata": {
    "collapsed": false
   },
   "outputs": [],
   "source": [
    "# Начальное приближение:\n",
    "X0 = np.array([0.4, 0.6])\n",
    "\n",
    "# Минимизация\n",
    "res = so.minimize(f, X0, method='Nelder-Mead')\n",
    "X_opt = res.x\n",
    "\n",
    "print(res)\n",
    "print('\\nk* = %.4f, n* = %.4f' %(X_opt[0], X_opt[1]))"
   ]
  },
  {
   "cell_type": "markdown",
   "metadata": {},
   "source": [
    "Попытка 5 - используем аналитические выражения для градиента и гессиана"
   ]
  },
  {
   "cell_type": "code",
   "execution_count": null,
   "metadata": {
    "collapsed": false
   },
   "outputs": [],
   "source": [
    "# Символьное выражение для функции ошибки\n",
    "n, k = sp.symbols('n, k')\n",
    "\n",
    "error_s = sp.Rational(0)\n",
    "\n",
    "for i in range(len(C_exp)):    \n",
    "    error_s += (C_exp[i] - C_0 * sp.exp(-(k * t[i] / n)**n))**2\n",
    "    \n",
    "error_s\n"
   ]
  },
  {
   "cell_type": "code",
   "execution_count": null,
   "metadata": {
    "collapsed": false
   },
   "outputs": [],
   "source": [
    "# Градиент функции ошибки\n",
    "J_error_s = sp.Matrix([error_s]).jacobian([k, n]).T\n",
    "\n",
    "# Градиент в точке минимума\n",
    "printMatrix(J_error_s.subs({k:0.41386108,  n:0.67554865}))"
   ]
  },
  {
   "cell_type": "code",
   "execution_count": null,
   "metadata": {
    "collapsed": false
   },
   "outputs": [],
   "source": [
    "# Получение вычисляемой функции для градиента\n",
    "J_error = sp.lambdify((k, n), J_error_s, 'numpy')\n",
    "J_error(0.41386108,  0.67554865)"
   ]
  },
  {
   "cell_type": "code",
   "execution_count": null,
   "metadata": {
    "collapsed": false
   },
   "outputs": [],
   "source": [
    "# Гессиан функции ошибки - выражение и вычисляемая функция\n",
    "H_error_s = sp.hessian(error_s, (k, n))\n",
    "H_error = sp.lambdify((k, n), H_error_s)"
   ]
  },
  {
   "cell_type": "code",
   "execution_count": null,
   "metadata": {
    "collapsed": false
   },
   "outputs": [],
   "source": [
    "# Гессиан в точке минимума\n",
    "H_error(0.41386108,  0.67554865)"
   ]
  },
  {
   "cell_type": "code",
   "execution_count": null,
   "metadata": {
    "collapsed": false
   },
   "outputs": [],
   "source": [
    "# Проверка положительной определенности\n",
    "np.linalg.eig(H_error(0.41386108,  0.67554865))[0]"
   ]
  },
  {
   "cell_type": "code",
   "execution_count": null,
   "metadata": {
    "collapsed": false
   },
   "outputs": [],
   "source": [
    "# Функции векторного аргумента для вычисления градиента и гессиана\n",
    "Jac_error = lambda X: np.array(J_error(X[0], X[1])).ravel()\n",
    "Hess_error = lambda X: H_error(X[0], X[1])\n",
    "Jac_error([0.41386108,  0.67554865])"
   ]
  },
  {
   "cell_type": "code",
   "execution_count": null,
   "metadata": {
    "collapsed": false
   },
   "outputs": [],
   "source": [
    "# Минимизация методом Ньютона\n",
    "\n",
    "# Начальное приближение:\n",
    "X0 = np.array([0.4, 0.6])\n",
    "\n",
    "# Минимизация\n",
    "res = so.minimize(f, X0, jac=Jac_error, hess=Hess_error, method='Newton-CG')\n",
    "X_opt = res.x\n",
    "\n",
    "print(res)\n",
    "print('\\nk* = %.4f, n* = %.4f' %(X_opt[0], X_opt[1]))"
   ]
  },
  {
   "cell_type": "code",
   "execution_count": null,
   "metadata": {
    "collapsed": false
   },
   "outputs": [],
   "source": [
    "%%timeit\n",
    "X0 = np.array([0.3, 0.3])\n",
    "\n",
    "# Минимизация\n",
    "res = so.minimize(f, X0) \n"
   ]
  },
  {
   "cell_type": "code",
   "execution_count": null,
   "metadata": {
    "collapsed": false
   },
   "outputs": [],
   "source": [
    "%%timeit\n",
    "# Начальное приближение:\n",
    "X0 = np.array([0.3, 0.3])\n",
    "\n",
    "# Минимизация\n",
    "res = so.minimize(f, X0, jac=Jac_error, hess=Hess_error, method='Newton-CG')\n"
   ]
  },
  {
   "cell_type": "code",
   "execution_count": null,
   "metadata": {
    "collapsed": false
   },
   "outputs": [],
   "source": [
    "%%timeit\n",
    "# Начальное приближение:\n",
    "X0 = np.array([0.3, 0.3])\n",
    "\n",
    "# Минимизация\n",
    "res = so.minimize(f, X0, bounds=((0, 1), (0, 1)))"
   ]
  },
  {
   "cell_type": "code",
   "execution_count": null,
   "metadata": {
    "collapsed": false
   },
   "outputs": [],
   "source": [
    "%%timeit\n",
    "# Начальное приближение:\n",
    "X0 = np.array([0.3, 0.3])\n",
    "\n",
    "# Минимизация\n",
    "res = so.minimize(f, X0, method='Nelder-Mead')\n"
   ]
  },
  {
   "cell_type": "markdown",
   "metadata": {},
   "source": [
    "### Уменьшение нелинейности целевой функции с помощью логарифмирования"
   ]
  },
  {
   "cell_type": "code",
   "execution_count": null,
   "metadata": {
    "collapsed": false
   },
   "outputs": [],
   "source": [
    "# Уменьшение нелинейности функции с помощью логарифмирования\n",
    "ln_f = lambda X: np.log(f(X))\n",
    "\n",
    "# Начальное приближение:\n",
    "X0 = np.array([0.3, 0.3])\n",
    "\n",
    "# Минимизация\n",
    "res = so.minimize(ln_f, X0, method='CG')\n",
    "X_opt = res.x\n",
    "\n",
    "print(res)\n",
    "print('\\nk* = %.4f, n* = %.4f' %(X_opt[0], X_opt[1]))"
   ]
  },
  {
   "cell_type": "code",
   "execution_count": null,
   "metadata": {
    "collapsed": false
   },
   "outputs": [],
   "source": [
    "# Эффект логарифмирования\n",
    "\n",
    "k_ = np.linspace(0.25, 0.6, 100)\n",
    "n_ = np.linspace(0.3, 0.9, 100)\n",
    "\n",
    "X, Y = np.meshgrid(k_, n_)\n",
    "\n",
    "Z = error(X, Y)\n",
    "ln_Z = np.log(Z)\n",
    "\n",
    "fig, (ax0, ax1) = plt.subplots(ncols=2, figsize=(10, 5))\n",
    "\n",
    "cs0 = ax0.contourf(X, Y, Z, 20, cmap=plt.cm.viridis)\n",
    "cs1 = ax1.contourf(X, Y, ln_Z, 20, cmap=plt.cm.viridis)\n",
    "plt.subplots_adjust(wspace=5)\n",
    "fig.colorbar(cs0, ax=ax0)\n",
    "fig.colorbar(cs1, ax=ax1)\n",
    "\n",
    "#plt.colorbar()\n",
    "\n",
    "\n",
    "ax1.set_xlabel('k')\n",
    "ax0.set_ylabel('n')\n",
    "ax0.set_xlabel('k')\n",
    "ax0.set_title('Невязка модели', y=1.02);\n",
    "ax1.set_title('Логарифм невязки', y=1.02);\n",
    "\n",
    "fig.tight_layout()"
   ]
  },
  {
   "cell_type": "markdown",
   "metadata": {},
   "source": [
    "### Подгонка нелинейной функции с помощью `curve_fit()`\n",
    "\n",
    "В пакете `scipy.optimize` содержится функция `curve_fit()` специально предназначенная для подгонки параметров кривых к экспериментальным данным на основе критерия наименьших квадратов. Функция использует эффективно работающий с этим типом задач метод оптимизации Левенберга-Марквардта. Помимо оценки параметров функция возвращает также ковариационную матрицу для параметров, позволяющую оценить адекватность модели."
   ]
  },
  {
   "cell_type": "code",
   "execution_count": null,
   "metadata": {
    "collapsed": false
   },
   "outputs": [],
   "source": [
    "popt, pcov = so.curve_fit(C_t, t, C_exp, np.array([0.3, 0.3]))\n",
    "popt"
   ]
  },
  {
   "cell_type": "code",
   "execution_count": null,
   "metadata": {
    "collapsed": false
   },
   "outputs": [],
   "source": [
    "%%timeit\n",
    "popt, pcov = so.curve_fit(C_t, t, C_exp, np.array([0.3, 0.3]))"
   ]
  },
  {
   "cell_type": "code",
   "execution_count": null,
   "metadata": {
    "collapsed": false
   },
   "outputs": [],
   "source": [
    "t_ = np.linspace(0, 10, 101)\n",
    "plt.plot(t_, C_t(t_, popt[0], popt[1]), label='Модель')\n",
    "plt.plot(t, C_exp, 'ro', label='Эксперимент')\n",
    "plt.legend(loc='best')\n",
    "plt.xlabel('$t$', fontsize=20)\n",
    "plt.ylabel('$C(t)$', fontsize=20)\n",
    "plt.title('Кинетика связывания $CaO$', y=1.02);"
   ]
  },
  {
   "cell_type": "markdown",
   "metadata": {
    "collapsed": true
   },
   "source": [
    "# Задание 2. Многоступенчатое сжатие газа"
   ]
  },
  {
   "cell_type": "markdown",
   "metadata": {},
   "source": [
    "При многоступенчатом изоэнтропическом сжатии газа от начального давления $P_0$ до конечного давления $P_N$ желательно установить такие промежуточные давления, при которых суммарная энергия, израсходованная на сжатие, была бы минимальной. Газ охлаждается изобарически до своей начальной температуры после каждого адиабатического сжатия.\n",
    "\n",
    "Затраты энергии на $n-$й ступени определяются из уравнения:\n",
    "\n",
    "$$ E_n = \\frac{mRT}{a}  \\cdot  \\left( \\left( \\frac{p_n} {p_{n-1}} \\right)^a -1  \\right) $$\n",
    "    \n",
    "где \n",
    "\n",
    "- $m$ - число кмолей сжимаемого газа, \n",
    "\n",
    "- $R$ - универсальная газовая постоянная, $R = 8.314$ кДж / кмоль К \n",
    "\n",
    "- $T$ - начальная температура газа, K\n",
    "\n",
    "- $p_n$ - давление газа после сжатия на $n$-й ступени, атм\n",
    "\n",
    "- $a$ - константа, зависящая от отношения удельных теплоемкостей газа при постоянном давлении и постоянном объеме $\\gamma$:\n",
    "\n",
    "$$ a = \\frac{\\gamma - 1}{\\gamma} $$\n",
    "    \n",
    "Требуется найти такие давления $p_1, p_2..., p_n$, чтобы минимизировать суммарную энергию, затрачиваемую на сжатие:\n",
    "\n",
    "$$E = \\sum\\limits_{i=1}^{N} E_i $$"
   ]
  },
  {
   "cell_type": "markdown",
   "metadata": {},
   "source": [
    "Данные варианта:\n",
    "\n",
    "![Схема многоступенчатого сжатия](pics/compressors.png \"Схема многоступенчатого сжатия\")\n",
    "\n",
    "\n",
    " - Число ступеней сжатия $N=3$\n",
    " \n",
    " - Расход газа на входе: $m = 10$ кмоль/с\n",
    " \n",
    " - Начальная температура газа: $T = 293$ K\n",
    " \n",
    " - Отношение теплоемкостей при постоянном объеме и постоянном давлении: $\\gamma = 1.4$\n",
    " \n",
    " - Давление газа на входе первой ступени: $p_0 = 1$ атм\n",
    " \n",
    " - Давление газа на выходе последней ступени: $p_k = 64$ атм\n",
    "\n",
    "\n",
    "Требуется:\n",
    "\n",
    " - Задать функцию для расчета расхода энергии на одной ступени сжатия\n",
    " \n",
    " - Задать функцию для расчета общего энергопотребления (целевая функция)\n",
    " \n",
    " - Построить контурный график целевой функции\n",
    " \n",
    " - С помощью функции `minimize()` пакета `scipy.optimize` найти значения давления на выходе первой и второй ступени, которые минимизируют общее энергопотребление. \n",
    " \n",
    " - Повторить расчет для 5 ступеней сжатия. Сравнить общее энергопотребление при использовании 3 и 5 ступеней сжатия (при оптимальных давлениях на промежуточных ступенях)."
   ]
  },
  {
   "cell_type": "code",
   "execution_count": null,
   "metadata": {
    "collapsed": true
   },
   "outputs": [],
   "source": [
    "# Исходные данные:\n",
    "gamma = 1.4\n",
    "a = (gamma - 1) / gamma\n",
    "p0 = 1\n",
    "pk = 64\n",
    "R = 8.314\n",
    "m = 10\n",
    "T = 293"
   ]
  },
  {
   "cell_type": "markdown",
   "metadata": {},
   "source": [
    "## Задание 3. Оптимальная упаковка\n",
    "\n",
    "Для упаковки продукции требуется спроектировать тару - картонную коробку объемом 50 л. \n",
    "\n",
    "Определите оптимальную длину, ширину и высоту коробки, обеспечивающие минимальный расход картона.\n",
    "\n",
    "Для подбора начальной точки поиска нарисуйте контурный график целевой функции.\n",
    "\n",
    "Как изменится расход картона, если округлить найденные оптимальные размеры до целого количества см (с сохранением объема)?\n",
    "\n",
    "Округлить размеры можно с помощью функций `np.floor()` или `np.round()`.\n",
    "\n",
    "![Схема коробки](pics/box.png \"Схема коробки\")\n",
    "\n",
    "\n",
    "Подсказка: эта задача - с ограничением (на объем). Однако можно избавиться от этого ограничения, выразив одну из переменных через объем и две другие переменные.\n",
    "\n",
    "Источник: Belengundu A., Chandrupatla A. Optimization Concepts and Applications in Engineering. - 2ed. - Prentice-Hall, 2011. - P. 126"
   ]
  },
  {
   "cell_type": "markdown",
   "metadata": {},
   "source": [
    "## Задание 4. Определение константы скорости и энергии активации по экспериментальным данным\n",
    "\n",
    "Константа скорости зависит от температуры по закону Аррениуса:\n",
    "\n",
    "$$ k = k_0 \\cdot exp \\left(-\\frac{E}{RT} \\right) $$\n",
    "\n",
    "По заданной зависимости константы скорости реакции от температуры с помощью метода наименьших квадратов найти наиболее вероятные значения предэкспоненты $k_0$ и энергии активации $E$. \n",
    "\n",
    "$ R = 8.314 \\frac{Дж}{К\\cdot моль} $ - универсальная газовая постоянная\n",
    "\n",
    "\n",
    "\n",
    "$t,  C^{\\circ}$ | $k, с^{-1} $\n",
    ":- | :-\n",
    "200 | 10.3\n",
    "220 | 14.6\n",
    "240 | 18.1\n",
    "260 | 25.2\n",
    "280 | 31.0\n",
    "300 | 38.8\n",
    "320 | 50.6\n",
    "\n",
    "- Построить график изменения концентрации, согласно полученной модели и наложить на него экспериментальные точки\n",
    "\n",
    "- Построить контурный график функции ошибки (или ее логарифма) в зависимости от параметров\n",
    "\n",
    "Источник: Холоднов В.А. Решение задач безусловной оптимизации с использованием системы компьютерной математики Mathcad. - С.-Пб. : Санкт-Петербургский государственный технологический институт (технический университет), 2010. - с. 35"
   ]
  }
 ],
 "metadata": {
  "hide_input": false,
  "kernelspec": {
   "display_name": "Python 3",
   "language": "python",
   "name": "python3"
  },
  "language_info": {
   "codemirror_mode": {
    "name": "ipython",
    "version": 3
   },
   "file_extension": ".py",
   "mimetype": "text/x-python",
   "name": "python",
   "nbconvert_exporter": "python",
   "pygments_lexer": "ipython3",
   "version": "3.4.3"
  },
  "latex_envs": {
   "bibliofile": "biblio.bib",
   "cite_by": "apalike",
   "current_citInitial": 1,
   "eqLabelWithNumbers": true,
   "eqNumInitial": 0
  },
  "toc": {
   "toc_cell": false,
   "toc_number_sections": false,
   "toc_threshold": 4,
   "toc_window_display": false
  }
 },
 "nbformat": 4,
 "nbformat_minor": 0
}
